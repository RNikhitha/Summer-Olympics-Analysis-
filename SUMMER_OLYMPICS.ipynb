{
  "nbformat": 4,
  "nbformat_minor": 0,
  "metadata": {
    "colab": {
      "name": "SUMMER OLYMPICS ",
      "provenance": [],
      "collapsed_sections": []
    },
    "kernelspec": {
      "name": "python3",
      "display_name": "Python 3"
    },
    "language_info": {
      "name": "python"
    }
  },
  "cells": [
    {
      "cell_type": "markdown",
      "metadata": {
        "id": "VtI2nfaov3TS"
      },
      "source": [
        "**Summer Olympics Data Analysis Assignment**\n"
      ]
    },
    {
      "cell_type": "code",
      "metadata": {
        "id": "r3HZRpK7X4tA"
      },
      "source": [
        "import pandas as pd\n",
        "import numpy as np\n",
        "import matplotlib.pyplot as plt"
      ],
      "execution_count": 18,
      "outputs": []
    },
    {
      "cell_type": "code",
      "metadata": {
        "id": "x6TSHOKFX5gf"
      },
      "source": [
        "\n",
        "df = pd.read_csv(\"summer.csv\")"
      ],
      "execution_count": 19,
      "outputs": []
    },
    {
      "cell_type": "markdown",
      "metadata": {
        "id": "EwBxXaY-wCEK"
      },
      "source": [
        "\n",
        "1. In how many cities Summer Olympics is held so far?"
      ]
    },
    {
      "cell_type": "code",
      "metadata": {
        "colab": {
          "base_uri": "https://localhost:8080/"
        },
        "id": "HWLNLBxuwzft",
        "outputId": "4119bbb2-5e9e-40c4-be57-c133809882d9"
      },
      "source": [
        "df.head()\n",
        "num = []\n",
        "len(df['City'].unique())"
      ],
      "execution_count": 20,
      "outputs": [
        {
          "output_type": "execute_result",
          "data": {
            "text/plain": [
              "22"
            ]
          },
          "metadata": {},
          "execution_count": 20
        }
      ]
    },
    {
      "cell_type": "markdown",
      "metadata": {
        "id": "OE5P_A2uwKdu"
      },
      "source": [
        "\n",
        "2. Which sport is having most number of Gold Medals so far? (Top 5)"
      ]
    },
    {
      "cell_type": "code",
      "metadata": {
        "colab": {
          "base_uri": "https://localhost:8080/",
          "height": 345
        },
        "id": "DtSai46yCMEf",
        "outputId": "8ce379ee-5892-4dc9-ca3d-0d94c78aba8e"
      },
      "source": [
        "for g in df['Sport'].unique():\n",
        "  pr = df[(df['Medal']=='Gold')]\n",
        "bl = []\n",
        "for g in pr['Sport'].unique():\n",
        "  bl.append([g, len(pr[pr['Sport']==g])])\n",
        "bl = pd.DataFrame(bl, columns=['Sport', 'Gold-medal'])\n",
        "bl = bl.sort_values(by='Gold-medal', ascending=False,).head()\n",
        "bl.plot(x= 'Sport', y='Gold-medal', kind='bar', color='gold')"
      ],
      "execution_count": 21,
      "outputs": [
        {
          "output_type": "execute_result",
          "data": {
            "text/plain": [
              "<matplotlib.axes._subplots.AxesSubplot at 0x7fa754653150>"
            ]
          },
          "metadata": {},
          "execution_count": 21
        },
        {
          "output_type": "display_data",
          "data": {
            "image/png": "[encoded data removed]",
            "text/plain": [
              "<Figure size 432x288 with 1 Axes>"
            ]
          },
          "metadata": {
            "needs_background": "light"
          }
        }
      ]
    },
    {
      "cell_type": "markdown",
      "metadata": {
        "id": "ui_jtv35wLvB"
      },
      "source": [
        "\n",
        "3. Which sport is having most number of medals so far? (Top 5)"
      ]
    },
    {
      "cell_type": "code",
      "metadata": {
        "colab": {
          "base_uri": "https://localhost:8080/",
          "height": 345
        },
        "id": "XUgsvjjuHIWr",
        "outputId": "a81a4e22-54da-4403-c8b7-41aef6eb4b3c"
      },
      "source": [
        "m = []\n",
        "for sp in df['Sport'].unique():\n",
        "  m.append([sp,len(df[df['Sport']==sp])])\n",
        "m = pd.DataFrame(m, columns=['Sports','Medals'])\n",
        "m = m.sort_values(by='Medals', ascending=False).head()\n",
        "m.plot(x= 'Sports', y = 'Medals', kind= 'bar', color= 'blue')"
      ],
      "execution_count": 26,
      "outputs": [
        {
          "output_type": "execute_result",
          "data": {
            "text/plain": [
              "<matplotlib.axes._subplots.AxesSubplot at 0x7fa74f8705d0>"
            ]
          },
          "metadata": {},
          "execution_count": 26
        },
        {
          "output_type": "display_data",
          "data": {
            "image/png": "[encoded data removed]",
            "text/plain": [
              "<Figure size 432x288 with 1 Axes>"
            ]
          },
          "metadata": {
            "needs_background": "light"
          }
        }
      ]
    },
    {
      "cell_type": "markdown",
      "metadata": {
        "id": "uA3-O53PwPWX"
      },
      "source": [
        "\n",
        "4. Which player has won most number of medals? (Top 5)"
      ]
    },
    {
      "cell_type": "code",
      "metadata": {
        "colab": {
          "base_uri": "https://localhost:8080/",
          "height": 404
        },
        "id": "6ARuoK6vG5xX",
        "outputId": "3d6c5de2-54db-4a67-da45-ae43d7e567ea"
      },
      "source": [
        "n = []\n",
        "for won in df['Athlete'].unique():\n",
        "  n.append([won, len(df[df['Athlete']==won])])\n",
        "n = pd.DataFrame(n, columns=['Athletes', 'Medals'])\n",
        "n = n.sort_values(by='Medals', ascending=False).head()\n",
        "n.plot(x= 'Athletes', y='Medals',kind='bar', color='yellow')"
      ],
      "execution_count": 41,
      "outputs": [
        {
          "output_type": "execute_result",
          "data": {
            "text/plain": [
              "<matplotlib.axes._subplots.AxesSubplot at 0x7fa74f0ffad0>"
            ]
          },
          "metadata": {},
          "execution_count": 41
        },
        {
          "output_type": "display_data",
          "data": {
            "image/png": "[encoded data removed]",
            "text/plain": [
              "<Figure size 432x288 with 1 Axes>"
            ]
          },
          "metadata": {
            "needs_background": "light"
          }
        }
      ]
    },
    {
      "cell_type": "markdown",
      "metadata": {
        "id": "L8jEDAPCwSRv"
      },
      "source": [
        "5. Which player has won most number Gold Medals of medals? (Top 5)"
      ]
    },
    {
      "cell_type": "code",
      "metadata": {
        "colab": {
          "base_uri": "https://localhost:8080/",
          "height": 426
        },
        "id": "LVjxEuSMGvNV",
        "outputId": "619e76ed-1bca-421f-930f-22c5d9d83d52"
      },
      "source": [
        "a = []\n",
        "for gw in pr['Athlete'].unique():\n",
        "  a.append([gw, len(pr[pr['Athlete']==gw])])\n",
        "a = pd.DataFrame(a, columns=['Athlete', 'Gold-Medals'])\n",
        "a = a.sort_values(by='Gold-Medals', ascending=False).head()\n",
        "a.plot(x= 'Athlete', y='Gold-Medals',kind='bar', color='magenta', figsize=(10,5))"
      ],
      "execution_count": 31,
      "outputs": [
        {
          "output_type": "execute_result",
          "data": {
            "text/plain": [
              "<matplotlib.axes._subplots.AxesSubplot at 0x7fa75484f910>"
            ]
          },
          "metadata": {},
          "execution_count": 31
        },
        {
          "output_type": "display_data",
          "data": {
            "image/png": "[encoded data removed]",
            "text/plain": [
              "<Figure size 720x360 with 1 Axes>"
            ]
          },
          "metadata": {
            "needs_background": "light"
          }
        }
      ]
    },
    {
      "cell_type": "markdown",
      "metadata": {
        "id": "Ek41TAdwwVUB"
      },
      "source": [
        "6. In which year India won first Gold Medal in Summer Olympics?"
      ]
    },
    {
      "cell_type": "code",
      "metadata": {
        "colab": {
          "base_uri": "https://localhost:8080/"
        },
        "id": "9bFwy1elGqeF",
        "outputId": "30bd25fe-30c4-40ee-d2fc-6cc6e039de58"
      },
      "source": [
        "for f in pr.index:\n",
        "  if (pr.Country[f]=='IND' and pr.Medal[f]=='Gold'):\n",
        "    print(pr.Year[f])\n",
        "    break"
      ],
      "execution_count": 33,
      "outputs": [
        {
          "output_type": "stream",
          "name": "stdout",
          "text": [
            "1928\n"
          ]
        }
      ]
    },
    {
      "cell_type": "markdown",
      "metadata": {
        "id": "RshWR9p_wxlL"
      },
      "source": [
        "\n",
        "7. Which event is most popular in terms on number of players? (Top 5)"
      ]
    },
    {
      "cell_type": "code",
      "metadata": {
        "colab": {
          "base_uri": "https://localhost:8080/",
          "height": 376
        },
        "id": "5v506JTnFRG5",
        "outputId": "592835b8-98bc-422f-b939-204d2351445e"
      },
      "source": [
        "a = []\n",
        "for p in df['Event'].unique():\n",
        "  a.append([p,len(df[df['Event']==p])])\n",
        "a = pd.DataFrame(a, columns=['Events','Number Of Gold Medals'])\n",
        "a = a.sort_values(by='Number Of Gold Medals', ascending=False).head()\n",
        "a.plot(x= 'Events', y = 'Number Of Gold Medals', kind= 'bar', color= 'grey')"
      ],
      "execution_count": 35,
      "outputs": [
        {
          "output_type": "execute_result",
          "data": {
            "text/plain": [
              "<matplotlib.axes._subplots.AxesSubplot at 0x7fa756c3fb10>"
            ]
          },
          "metadata": {},
          "execution_count": 35
        },
        {
          "output_type": "display_data",
          "data": {
            "image/png": "[encoded data removed]",
            "text/plain": [
              "<Figure size 432x288 with 1 Axes>"
            ]
          },
          "metadata": {
            "needs_background": "light"
          }
        }
      ]
    },
    {
      "cell_type": "markdown",
      "metadata": {
        "id": "gXzZnv1Wwb5S"
      },
      "source": [
        "\n",
        "8. Which sport is having most female Gold Medalists? (Top 5)"
      ]
    },
    {
      "cell_type": "code",
      "metadata": {
        "colab": {
          "base_uri": "https://localhost:8080/",
          "height": 345
        },
        "id": "n42aXU9gDlqX",
        "outputId": "5851f4e2-0e28-4b85-a2c9-3123b46372a7"
      },
      "source": [
        "for gf in pr['Sport'].unique():\n",
        "  an = pr[pr['Gender']=='Women']\n",
        "b = []\n",
        "for gf in an['Sport'].unique():\n",
        "  b.append([gf, len(an[an['Sport']==gf])])\n",
        "b = pd.DataFrame(b, columns=['Sport','Gold-Medals'])\n",
        "b = b.sort_values(by='Gold-Medals', ascending= False).head()\n",
        "b.plot(x= 'Sport', y = 'Gold-Medals',kind='bar', color='orange')"
      ],
      "execution_count": 37,
      "outputs": [
        {
          "output_type": "execute_result",
          "data": {
            "text/plain": [
              "<matplotlib.axes._subplots.AxesSubplot at 0x7fa74f4236d0>"
            ]
          },
          "metadata": {},
          "execution_count": 37
        },
        {
          "output_type": "display_data",
          "data": {
            "image/png": "[encoded data removed]",
            "text/plain": [
              "<Figure size 432x288 with 1 Axes>"
            ]
          },
          "metadata": {
            "needs_background": "light"
          }
        }
      ]
    }
  ]
}